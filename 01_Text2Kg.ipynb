{
 "cells": [
  {
   "cell_type": "markdown",
   "id": "931fcb23",
   "metadata": {},
   "source": [
    "# From Text to a Knowledge Graph"
   ]
  },
  {
   "cell_type": "markdown",
   "id": "f0b2b128",
   "metadata": {},
   "source": [
    "Based on article: *[From Text to a Knowledge Graph. Hands-on](https://medium.com/@hugojm/from-text-to-a-knowledge-graph-hands-on-dd68e9d42939)*\n",
    "\n",
    "Libraries: \n",
    "* [DBpedia Spotlight for SpaCy](https://spacy.io/universe/project/spacy-dbpedia-spotlight): **pip install spacy_dbpedia_spotlight**\n",
    "* [Getting started with RDFLib](https://rdflib.readthedocs.io/en/stable/gettingstarted.html): **conda install -c conda-forge rdflib**"
   ]
  },
  {
   "cell_type": "code",
   "execution_count": 1,
   "id": "ef69ecaa",
   "metadata": {
    "scrolled": true
   },
   "outputs": [
    {
     "ename": "UnsupportedOperation",
     "evalue": "fileno",
     "output_type": "error",
     "traceback": [
      "\u001b[1;31m---------------------------------------------------------------------------\u001b[0m",
      "\u001b[1;31mUnsupportedOperation\u001b[0m                      Traceback (most recent call last)",
      "\u001b[1;32m~\\AppData\\Local\\Temp\\ipykernel_29376\\1303612863.py\u001b[0m in \u001b[0;36m<cell line: 1>\u001b[1;34m()\u001b[0m\n\u001b[1;32m----> 1\u001b[1;33m \u001b[1;32mimport\u001b[0m \u001b[0mspacy\u001b[0m\u001b[1;33m\u001b[0m\u001b[1;33m\u001b[0m\u001b[0m\n\u001b[0m\u001b[0;32m      2\u001b[0m \u001b[1;32mimport\u001b[0m \u001b[0mspacy_dbpedia_spotlight\u001b[0m\u001b[1;33m\u001b[0m\u001b[1;33m\u001b[0m\u001b[0m\n\u001b[0;32m      3\u001b[0m \u001b[1;32mfrom\u001b[0m \u001b[0mspacy\u001b[0m\u001b[1;33m.\u001b[0m\u001b[0mmatcher\u001b[0m \u001b[1;32mimport\u001b[0m \u001b[0mMatcher\u001b[0m\u001b[1;33m\u001b[0m\u001b[1;33m\u001b[0m\u001b[0m\n",
      "\u001b[1;32m~\\.conda\\envs\\fastai\\lib\\site-packages\\spacy\\__init__.py\u001b[0m in \u001b[0;36m<module>\u001b[1;34m\u001b[0m\n\u001b[0;32m      9\u001b[0m \u001b[1;33m\u001b[0m\u001b[0m\n\u001b[0;32m     10\u001b[0m \u001b[1;31m# These are imported as part of the API\u001b[0m\u001b[1;33m\u001b[0m\u001b[1;33m\u001b[0m\u001b[0m\n\u001b[1;32m---> 11\u001b[1;33m \u001b[1;32mfrom\u001b[0m \u001b[0mthinc\u001b[0m\u001b[1;33m.\u001b[0m\u001b[0mapi\u001b[0m \u001b[1;32mimport\u001b[0m \u001b[0mprefer_gpu\u001b[0m\u001b[1;33m,\u001b[0m \u001b[0mrequire_gpu\u001b[0m\u001b[1;33m,\u001b[0m \u001b[0mrequire_cpu\u001b[0m  \u001b[1;31m# noqa: F401\u001b[0m\u001b[1;33m\u001b[0m\u001b[1;33m\u001b[0m\u001b[0m\n\u001b[0m\u001b[0;32m     12\u001b[0m \u001b[1;32mfrom\u001b[0m \u001b[0mthinc\u001b[0m\u001b[1;33m.\u001b[0m\u001b[0mapi\u001b[0m \u001b[1;32mimport\u001b[0m \u001b[0mConfig\u001b[0m\u001b[1;33m\u001b[0m\u001b[1;33m\u001b[0m\u001b[0m\n\u001b[0;32m     13\u001b[0m \u001b[1;33m\u001b[0m\u001b[0m\n",
      "\u001b[1;32m~\\.conda\\envs\\fastai\\lib\\site-packages\\thinc\\__init__.py\u001b[0m in \u001b[0;36m<module>\u001b[1;34m\u001b[0m\n\u001b[0;32m      3\u001b[0m \u001b[1;33m\u001b[0m\u001b[0m\n\u001b[0;32m      4\u001b[0m \u001b[1;32mfrom\u001b[0m \u001b[1;33m.\u001b[0m\u001b[0mabout\u001b[0m \u001b[1;32mimport\u001b[0m \u001b[0m__version__\u001b[0m\u001b[1;33m\u001b[0m\u001b[1;33m\u001b[0m\u001b[0m\n\u001b[1;32m----> 5\u001b[1;33m \u001b[1;32mfrom\u001b[0m \u001b[1;33m.\u001b[0m\u001b[0mconfig\u001b[0m \u001b[1;32mimport\u001b[0m \u001b[0mregistry\u001b[0m\u001b[1;33m\u001b[0m\u001b[1;33m\u001b[0m\u001b[0m\n\u001b[0m",
      "\u001b[1;32m~\\.conda\\envs\\fastai\\lib\\site-packages\\thinc\\config.py\u001b[0m in \u001b[0;36m<module>\u001b[1;34m\u001b[0m\n\u001b[0;32m     11\u001b[0m \u001b[1;32mfrom\u001b[0m \u001b[0mpydantic\u001b[0m\u001b[1;33m.\u001b[0m\u001b[0mmain\u001b[0m \u001b[1;32mimport\u001b[0m \u001b[0mModelMetaclass\u001b[0m\u001b[1;33m\u001b[0m\u001b[1;33m\u001b[0m\u001b[0m\n\u001b[0;32m     12\u001b[0m \u001b[1;32mfrom\u001b[0m \u001b[0mpydantic\u001b[0m\u001b[1;33m.\u001b[0m\u001b[0mfields\u001b[0m \u001b[1;32mimport\u001b[0m \u001b[0mModelField\u001b[0m\u001b[1;33m\u001b[0m\u001b[1;33m\u001b[0m\u001b[0m\n\u001b[1;32m---> 13\u001b[1;33m \u001b[1;32mfrom\u001b[0m \u001b[0mwasabi\u001b[0m \u001b[1;32mimport\u001b[0m \u001b[0mtable\u001b[0m\u001b[1;33m\u001b[0m\u001b[1;33m\u001b[0m\u001b[0m\n\u001b[0m\u001b[0;32m     14\u001b[0m \u001b[1;32mimport\u001b[0m \u001b[0msrsly\u001b[0m\u001b[1;33m\u001b[0m\u001b[1;33m\u001b[0m\u001b[0m\n\u001b[0;32m     15\u001b[0m \u001b[1;32mimport\u001b[0m \u001b[0mcatalogue\u001b[0m\u001b[1;33m\u001b[0m\u001b[1;33m\u001b[0m\u001b[0m\n",
      "\u001b[1;32m~\\.conda\\envs\\fastai\\lib\\site-packages\\wasabi\\__init__.py\u001b[0m in \u001b[0;36m<module>\u001b[1;34m\u001b[0m\n\u001b[0;32m     10\u001b[0m \u001b[1;32mfrom\u001b[0m \u001b[1;33m.\u001b[0m\u001b[0mabout\u001b[0m \u001b[1;32mimport\u001b[0m \u001b[0m__version__\u001b[0m  \u001b[1;31m# noqa\u001b[0m\u001b[1;33m\u001b[0m\u001b[1;33m\u001b[0m\u001b[0m\n\u001b[0;32m     11\u001b[0m \u001b[1;33m\u001b[0m\u001b[0m\n\u001b[1;32m---> 12\u001b[1;33m \u001b[0mmsg\u001b[0m \u001b[1;33m=\u001b[0m \u001b[0mPrinter\u001b[0m\u001b[1;33m(\u001b[0m\u001b[1;33m)\u001b[0m\u001b[1;33m\u001b[0m\u001b[1;33m\u001b[0m\u001b[0m\n\u001b[0m",
      "\u001b[1;32m~\\.conda\\envs\\fastai\\lib\\site-packages\\wasabi\\printer.py\u001b[0m in \u001b[0;36m__init__\u001b[1;34m(self, pretty, no_print, colors, icons, line_max, animation, animation_ascii, hide_animation, ignore_warnings, env_prefix, timestamp)\u001b[0m\n\u001b[0;32m     54\u001b[0m         \u001b[0mself\u001b[0m\u001b[1;33m.\u001b[0m\u001b[0mpretty\u001b[0m \u001b[1;33m=\u001b[0m \u001b[0mpretty\u001b[0m \u001b[1;32mand\u001b[0m \u001b[1;32mnot\u001b[0m \u001b[0menv_no_pretty\u001b[0m\u001b[1;33m\u001b[0m\u001b[1;33m\u001b[0m\u001b[0m\n\u001b[0;32m     55\u001b[0m         \u001b[0mself\u001b[0m\u001b[1;33m.\u001b[0m\u001b[0mno_print\u001b[0m \u001b[1;33m=\u001b[0m \u001b[0mno_print\u001b[0m\u001b[1;33m\u001b[0m\u001b[1;33m\u001b[0m\u001b[0m\n\u001b[1;32m---> 56\u001b[1;33m         \u001b[0mself\u001b[0m\u001b[1;33m.\u001b[0m\u001b[0mshow_color\u001b[0m \u001b[1;33m=\u001b[0m \u001b[0msupports_ansi\u001b[0m\u001b[1;33m(\u001b[0m\u001b[1;33m)\u001b[0m \u001b[1;32mand\u001b[0m \u001b[1;32mnot\u001b[0m \u001b[0menv_log_friendly\u001b[0m\u001b[1;33m\u001b[0m\u001b[1;33m\u001b[0m\u001b[0m\n\u001b[0m\u001b[0;32m     57\u001b[0m         \u001b[0mself\u001b[0m\u001b[1;33m.\u001b[0m\u001b[0mhide_animation\u001b[0m \u001b[1;33m=\u001b[0m \u001b[0mhide_animation\u001b[0m \u001b[1;32mor\u001b[0m \u001b[0menv_log_friendly\u001b[0m\u001b[1;33m\u001b[0m\u001b[1;33m\u001b[0m\u001b[0m\n\u001b[0;32m     58\u001b[0m         \u001b[0mself\u001b[0m\u001b[1;33m.\u001b[0m\u001b[0mignore_warnings\u001b[0m \u001b[1;33m=\u001b[0m \u001b[0mignore_warnings\u001b[0m\u001b[1;33m\u001b[0m\u001b[1;33m\u001b[0m\u001b[0m\n",
      "\u001b[1;32m~\\.conda\\envs\\fastai\\lib\\site-packages\\wasabi\\util.py\u001b[0m in \u001b[0;36msupports_ansi\u001b[1;34m()\u001b[0m\n\u001b[0;32m    262\u001b[0m         \u001b[1;32mif\u001b[0m \u001b[1;34m\"ANSICON\"\u001b[0m \u001b[1;32min\u001b[0m \u001b[0mos\u001b[0m\u001b[1;33m.\u001b[0m\u001b[0menviron\u001b[0m\u001b[1;33m:\u001b[0m\u001b[1;33m\u001b[0m\u001b[1;33m\u001b[0m\u001b[0m\n\u001b[0;32m    263\u001b[0m             \u001b[1;32mreturn\u001b[0m \u001b[1;32mTrue\u001b[0m\u001b[1;33m\u001b[0m\u001b[1;33m\u001b[0m\u001b[0m\n\u001b[1;32m--> 264\u001b[1;33m         \u001b[1;32mreturn\u001b[0m \u001b[0m_windows_console_supports_ansi\u001b[0m\u001b[1;33m(\u001b[0m\u001b[1;33m)\u001b[0m\u001b[1;33m\u001b[0m\u001b[1;33m\u001b[0m\u001b[0m\n\u001b[0m\u001b[0;32m    265\u001b[0m \u001b[1;33m\u001b[0m\u001b[0m\n\u001b[0;32m    266\u001b[0m     \u001b[1;32mreturn\u001b[0m \u001b[1;32mTrue\u001b[0m\u001b[1;33m\u001b[0m\u001b[1;33m\u001b[0m\u001b[0m\n",
      "\u001b[1;32m~\\.conda\\envs\\fastai\\lib\\site-packages\\wasabi\\util.py\u001b[0m in \u001b[0;36m_windows_console_supports_ansi\u001b[1;34m()\u001b[0m\n\u001b[0;32m    234\u001b[0m             \u001b[1;32mraise\u001b[0m \u001b[0mctypes\u001b[0m\u001b[1;33m.\u001b[0m\u001b[0mWinError\u001b[0m\u001b[1;33m(\u001b[0m\u001b[1;33m)\u001b[0m\u001b[1;33m\u001b[0m\u001b[1;33m\u001b[0m\u001b[0m\n\u001b[0;32m    235\u001b[0m \u001b[1;33m\u001b[0m\u001b[0m\n\u001b[1;32m--> 236\u001b[1;33m     \u001b[0mconsole\u001b[0m \u001b[1;33m=\u001b[0m \u001b[0mmsvcrt\u001b[0m\u001b[1;33m.\u001b[0m\u001b[0mget_osfhandle\u001b[0m\u001b[1;33m(\u001b[0m\u001b[0msys\u001b[0m\u001b[1;33m.\u001b[0m\u001b[0mstdout\u001b[0m\u001b[1;33m.\u001b[0m\u001b[0mfileno\u001b[0m\u001b[1;33m(\u001b[0m\u001b[1;33m)\u001b[0m\u001b[1;33m)\u001b[0m\u001b[1;33m\u001b[0m\u001b[1;33m\u001b[0m\u001b[0m\n\u001b[0m\u001b[0;32m    237\u001b[0m     \u001b[1;32mtry\u001b[0m\u001b[1;33m:\u001b[0m\u001b[1;33m\u001b[0m\u001b[1;33m\u001b[0m\u001b[0m\n\u001b[0;32m    238\u001b[0m         \u001b[1;31m# Try to enable ANSI output support\u001b[0m\u001b[1;33m\u001b[0m\u001b[1;33m\u001b[0m\u001b[0m\n",
      "\u001b[1;32m~\\.conda\\envs\\fastai\\lib\\site-packages\\ipykernel\\iostream.py\u001b[0m in \u001b[0;36mfileno\u001b[1;34m(self)\u001b[0m\n\u001b[0;32m    309\u001b[0m             \u001b[1;32mreturn\u001b[0m \u001b[0mself\u001b[0m\u001b[1;33m.\u001b[0m\u001b[0m_original_stdstream_copy\u001b[0m\u001b[1;33m\u001b[0m\u001b[1;33m\u001b[0m\u001b[0m\n\u001b[0;32m    310\u001b[0m         \u001b[1;32melse\u001b[0m\u001b[1;33m:\u001b[0m\u001b[1;33m\u001b[0m\u001b[1;33m\u001b[0m\u001b[0m\n\u001b[1;32m--> 311\u001b[1;33m             \u001b[1;32mraise\u001b[0m \u001b[0mio\u001b[0m\u001b[1;33m.\u001b[0m\u001b[0mUnsupportedOperation\u001b[0m\u001b[1;33m(\u001b[0m\u001b[1;34m\"fileno\"\u001b[0m\u001b[1;33m)\u001b[0m\u001b[1;33m\u001b[0m\u001b[1;33m\u001b[0m\u001b[0m\n\u001b[0m\u001b[0;32m    312\u001b[0m \u001b[1;33m\u001b[0m\u001b[0m\n\u001b[0;32m    313\u001b[0m     \u001b[1;32mdef\u001b[0m \u001b[0m_watch_pipe_fd\u001b[0m\u001b[1;33m(\u001b[0m\u001b[0mself\u001b[0m\u001b[1;33m)\u001b[0m\u001b[1;33m:\u001b[0m\u001b[1;33m\u001b[0m\u001b[1;33m\u001b[0m\u001b[0m\n",
      "\u001b[1;31mUnsupportedOperation\u001b[0m: fileno"
     ]
    }
   ],
   "source": [
    "import spacy\n",
    "import spacy_dbpedia_spotlight\n",
    "from spacy.matcher import Matcher"
   ]
  },
  {
   "cell_type": "code",
   "execution_count": null,
   "id": "4ee45ea2",
   "metadata": {},
   "outputs": [],
   "source": [
    "nlp = spacy.load(\"en_core_web_sm\")\n",
    "nlp.add_pipe('dbpedia_spotlight')"
   ]
  },
  {
   "cell_type": "code",
   "execution_count": null,
   "id": "00499e39",
   "metadata": {},
   "outputs": [],
   "source": [
    "doc = nlp(\"Joe Biden married Jill Tracy Jacobs, who was educated at the University of Delaware\")"
   ]
  },
  {
   "cell_type": "markdown",
   "id": "64bb0f6a",
   "metadata": {},
   "source": [
    "## PreProcessament "
   ]
  },
  {
   "cell_type": "markdown",
   "id": "fa6e088a",
   "metadata": {},
   "source": [
    "### Tokenisation"
   ]
  },
  {
   "cell_type": "code",
   "execution_count": null,
   "id": "b4351792",
   "metadata": {},
   "outputs": [],
   "source": [
    "print([token.text for token in doc], sep=' ')"
   ]
  },
  {
   "cell_type": "markdown",
   "id": "e94a2526",
   "metadata": {},
   "source": [
    "### Lemmatisation"
   ]
  },
  {
   "cell_type": "code",
   "execution_count": null,
   "id": "594e0cbb",
   "metadata": {},
   "outputs": [],
   "source": [
    "print([token.lemma_ for token in doc], sep=' ')"
   ]
  },
  {
   "cell_type": "markdown",
   "id": "d98a8cbc",
   "metadata": {},
   "source": [
    "### Part-of-speech Tagging"
   ]
  },
  {
   "cell_type": "code",
   "execution_count": null,
   "id": "e770eb49",
   "metadata": {},
   "outputs": [],
   "source": [
    "print([(token.lemma_, token.pos_) for token in doc], sep=' ')"
   ]
  },
  {
   "cell_type": "markdown",
   "id": "f594fc14",
   "metadata": {},
   "source": [
    "### Dependency Parsing"
   ]
  },
  {
   "cell_type": "code",
   "execution_count": null,
   "id": "a12a1890",
   "metadata": {},
   "outputs": [],
   "source": [
    "print([(token.lemma_, token.dep_) for token in doc], sep=' ')"
   ]
  },
  {
   "cell_type": "code",
   "execution_count": null,
   "id": "aab08cae",
   "metadata": {},
   "outputs": [],
   "source": [
    "from spacy import displacy\n",
    "displacy.render(doc, style=\"dep\")"
   ]
  },
  {
   "cell_type": "markdown",
   "id": "c58a3882",
   "metadata": {},
   "source": [
    "### Named Entity Recognition (NER)"
   ]
  },
  {
   "cell_type": "code",
   "execution_count": null,
   "id": "2b43ffce",
   "metadata": {},
   "outputs": [],
   "source": [
    "print([(ent.text, ent.label_) for ent in doc.ents], sep=' ')"
   ]
  },
  {
   "cell_type": "code",
   "execution_count": null,
   "id": "58b09561",
   "metadata": {},
   "outputs": [],
   "source": [
    "ents = [ent for ent in doc.ents]"
   ]
  },
  {
   "cell_type": "code",
   "execution_count": null,
   "id": "7008cdcf",
   "metadata": {},
   "outputs": [],
   "source": [
    "ents_t = [ent.text for ent in doc.ents]"
   ]
  },
  {
   "cell_type": "code",
   "execution_count": null,
   "id": "949ac5fe",
   "metadata": {},
   "outputs": [],
   "source": [
    "print(\"Before: \", [token.text for token in doc])\n",
    "\n",
    "with doc.retokenize() as retokenizer:\n",
    "    for i in range(len(ents)):\n",
    "        retokenizer.merge(doc.ents[i])\n",
    "print(\"After: \", [token.text for token in doc])"
   ]
  },
  {
   "cell_type": "markdown",
   "id": "b4bab4cd",
   "metadata": {},
   "source": [
    "### Named Entity Linking (NEL)"
   ]
  },
  {
   "cell_type": "code",
   "execution_count": null,
   "id": "aa7b676d",
   "metadata": {},
   "outputs": [],
   "source": [
    "print([ent.kb_id_ for ent in doc.ents])"
   ]
  },
  {
   "cell_type": "markdown",
   "id": "5b7e628b",
   "metadata": {},
   "source": [
    "### Relation Extraction (RE)"
   ]
  },
  {
   "cell_type": "code",
   "execution_count": null,
   "id": "8447adf4",
   "metadata": {},
   "outputs": [],
   "source": [
    "def get_relation(sent):\n",
    "    aux = []\n",
    "    doc = nlp(sent)\n",
    "    \n",
    "    # Matcher class object\n",
    "    matcher = Matcher(nlp.vocab)\n",
    "    \n",
    "    # define the pattern\n",
    "    pattern = [[{'DEP' : 'ROOT'}],[{'DEP':'RELCL'}], [{'POS': 'VERB'}]]\n",
    "    \n",
    "    matcher.add(\"matching_1\", pattern)\n",
    "    \n",
    "    matches = matcher(doc)\n",
    "    for x in matches:\n",
    "        aux.append(doc[x[1]:x[2]].text)\n",
    "        \n",
    "    return(aux)"
   ]
  },
  {
   "cell_type": "code",
   "execution_count": null,
   "id": "6c91eda7",
   "metadata": {},
   "outputs": [],
   "source": [
    "rels = get_relation(\"Joe Biden married Jill Tracy Jacobs, who was educated at the University of Delaware\")\n",
    "print(rels)"
   ]
  },
  {
   "cell_type": "markdown",
   "id": "aab2d0f7",
   "metadata": {},
   "source": [
    "## Building Knowledge Graph"
   ]
  },
  {
   "cell_type": "markdown",
   "id": "e1e58c46",
   "metadata": {},
   "source": [
    "Finally we are going to create the final Knowledge Graph with the information we have."
   ]
  },
  {
   "cell_type": "code",
   "execution_count": null,
   "id": "1c76e664",
   "metadata": {},
   "outputs": [],
   "source": [
    "from rdflib import Graph, URIRef, Literal, BNode\n",
    "from rdflib.namespace import RDF, RDFS\n",
    "from rdflib import Namespace"
   ]
  },
  {
   "cell_type": "code",
   "execution_count": null,
   "id": "95360316",
   "metadata": {},
   "outputs": [],
   "source": [
    "g = Graph()\n",
    "\n",
    "for ent in doc.ents:\n",
    "    # add the label of the entry\n",
    "    g.add((URIRef(ent.kb_id_), RDFS.label, Literal(ent.text)))\n",
    "    prev = URIRef(ent.kb_id_)\n",
    "    \n",
    "g.add((URIRef('http://dbpedia.org/resource/Joe_Biden'), URIRef(\"https://dbpedia.org/ontology/\"+rels[0]), URIRef('http://dbpedia.org/resource/Jill_Tracy'))) \n",
    "g.add((URIRef('http://dbpedia.org/resource/Jill_Tracy'), URIRef(\"https://dbpedia.org/ontology/\"+rels[1]), URIRef('http://dbpedia.org/resource/Delaware')))"
   ]
  },
  {
   "cell_type": "code",
   "execution_count": null,
   "id": "cc84d20a",
   "metadata": {},
   "outputs": [],
   "source": [
    "for s,p, o in g:\n",
    "    print(s,p,o)"
   ]
  },
  {
   "cell_type": "markdown",
   "id": "783832f7",
   "metadata": {},
   "source": [
    "## Visualizing the Knowledge Graph"
   ]
  },
  {
   "cell_type": "code",
   "execution_count": null,
   "id": "42e559f1",
   "metadata": {
    "scrolled": false
   },
   "outputs": [],
   "source": [
    "import rdflib\n",
    "from rdflib.extras.external_graph_libs import rdflib_to_networkx_multidigraph\n",
    "import networkx as nx\n",
    "import matplotlib.pyplot as plt\n",
    "\n",
    "G = rdflib_to_networkx_multidigraph(g)\n",
    "\n",
    "#  Plot Networkx instance of RDF Graph\n",
    "pos = nx.spring_layout(G, scale=2)\n",
    "edge_labels = nx.get_edge_attributes(G, 'r')\n",
    "plt.figure(figsize=(10,10))\n",
    "nx.draw_networkx_edge_labels(G, pos, edge_labels=edge_labels)\n",
    "nx.draw(G, with_labels=True)\n",
    "\n",
    "plt.show()"
   ]
  },
  {
   "cell_type": "code",
   "execution_count": null,
   "id": "37734c03",
   "metadata": {},
   "outputs": [],
   "source": []
  }
 ],
 "metadata": {
  "kernelspec": {
   "display_name": "fastai",
   "language": "python",
   "name": "fastai"
  },
  "language_info": {
   "codemirror_mode": {
    "name": "ipython",
    "version": 3
   },
   "file_extension": ".py",
   "mimetype": "text/x-python",
   "name": "python",
   "nbconvert_exporter": "python",
   "pygments_lexer": "ipython3",
   "version": "3.9.13"
  },
  "toc": {
   "base_numbering": 1,
   "nav_menu": {
    "height": "266px",
    "width": "461px"
   },
   "number_sections": true,
   "sideBar": true,
   "skip_h1_title": false,
   "title_cell": "Table of Contents",
   "title_sidebar": "Contents",
   "toc_cell": false,
   "toc_position": {},
   "toc_section_display": true,
   "toc_window_display": false
  },
  "varInspector": {
   "cols": {
    "lenName": 16,
    "lenType": 16,
    "lenVar": 40
   },
   "kernels_config": {
    "python": {
     "delete_cmd_postfix": "",
     "delete_cmd_prefix": "del ",
     "library": "var_list.py",
     "varRefreshCmd": "print(var_dic_list())"
    },
    "r": {
     "delete_cmd_postfix": ") ",
     "delete_cmd_prefix": "rm(",
     "library": "var_list.r",
     "varRefreshCmd": "cat(var_dic_list()) "
    }
   },
   "oldHeight": 122.85,
   "position": {
    "height": "40px",
    "left": "1576px",
    "right": "20px",
    "top": "120px",
    "width": "250px"
   },
   "types_to_exclude": [
    "module",
    "function",
    "builtin_function_or_method",
    "instance",
    "_Feature"
   ],
   "varInspector_section_display": "none",
   "window_display": true
  }
 },
 "nbformat": 4,
 "nbformat_minor": 5
}
