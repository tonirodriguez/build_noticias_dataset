{
 "cells": [
  {
   "cell_type": "markdown",
   "metadata": {},
   "source": [
    "# core\n",
    "\n",
    "> Fill in a module description here"
   ]
  },
  {
   "cell_type": "code",
   "execution_count": null,
   "metadata": {},
   "outputs": [],
   "source": [
    "#| default_exp core"
   ]
  },
  {
   "cell_type": "code",
   "execution_count": null,
   "metadata": {},
   "outputs": [],
   "source": [
    "#| hide\n",
    "from nbdev.showdoc import *"
   ]
  },
  {
   "cell_type": "code",
   "execution_count": null,
   "metadata": {},
   "outputs": [],
   "source": [
    "# !pip install -U duckduckgo_search"
   ]
  },
  {
   "cell_type": "code",
   "execution_count": null,
   "metadata": {},
   "outputs": [],
   "source": [
    "#| export\n",
    "\n",
    "from duckduckgo_search import ddg\n",
    "from duckduckgo_search import ddg_news"
   ]
  },
  {
   "cell_type": "code",
   "execution_count": null,
   "metadata": {},
   "outputs": [],
   "source": [
    "#| export\n",
    "\n",
    "def ddg_news(keywords, region='wt-wt', safesearch='Moderate', time=None, max_results=25, output=None):\n",
    "    \"\"\"DuckDuckGo news search\n",
    "\n",
    "    Args:\n",
    "        keywords: keywords for query.\n",
    "        region: country of results - wt-wt (Global), us-en, uk-en, ru-ru, etc. Defaults to \"wt-wt\".\n",
    "        safesearch: On (kp = 1), Moderate (kp = -1), Off (kp = -2). Defaults to \"Moderate\".\n",
    "        time: 'd' (day), 'w' (week), 'm' (month). Defaults to None.\n",
    "        max_results: maximum DDG_news gives out 240 results. Defaults to 25.\n",
    "        output: csv, json, print. Defaults to None.\n",
    "\n",
    "    Returns:\n",
    "        DuckDuckGo news search results.\n",
    "    \"\"\""
   ]
  },
  {
   "cell_type": "code",
   "execution_count": null,
   "metadata": {},
   "outputs": [
    {
     "name": "stdout",
     "output_type": "stream",
     "text": [
      "None\n"
     ]
    }
   ],
   "source": [
    "#| export\n",
    "\n",
    "keywords = \"russia invasion ukraine\"\n",
    "r = ddg_news(keywords, region='wt-wt', safesearch='Off', time='d', max_results=100)\n",
    "print(r)"
   ]
  },
  {
   "cell_type": "code",
   "execution_count": null,
   "metadata": {},
   "outputs": [],
   "source": [
    "#| export\n",
    "\n",
    "def ddg(keywords, region='wt-wt', safesearch='Moderate', time=None, max_results=25, output=None):\n",
    "    \"\"\"DuckDuckGo text search. Query params: https://duckduckgo.com/params\n",
    "\n",
    "    Args:\n",
    "        keywords (str): keywords for query.\n",
    "        region (str, optional): country - wt-wt, us-en, uk-en, ru-ru, etc. Defaults to \"wt-wt\".\n",
    "        safesearch (str, optional): On(kp=1), Moderate(kp=-1), Off(kp=-2). Defaults to \"Moderate\".\n",
    "        time (str, optional): 'd' (day), 'w' (week), 'm' (month), 'y' (year). Defaults to None.\n",
    "        max_results (int, optional): return not less than max_results, max=200. Defaults to 25.\n",
    "        output (str, optional): csv, json, print. Defaults to None.\n",
    "\n",
    "    Returns:\n",
    "        Optional[List[dict]]: DuckDuckGo text search results.\n",
    "    \"\"\""
   ]
  },
  {
   "cell_type": "code",
   "execution_count": null,
   "metadata": {},
   "outputs": [
    {
     "name": "stdout",
     "output_type": "stream",
     "text": [
      "None\n"
     ]
    }
   ],
   "source": [
    "#| export\n",
    "\n",
    "keywords = 'Bella Ciao'\n",
    "results = ddg(keywords, region='wt-wt', safesearch='Moderate', time='y', max_results=25)\n",
    "print(results)"
   ]
  },
  {
   "cell_type": "code",
   "execution_count": null,
   "metadata": {},
   "outputs": [],
   "source": [
    "import fastbook\n",
    "fastbook.setup_book()\n",
    "from fastbook import *"
   ]
  },
  {
   "cell_type": "code",
   "execution_count": null,
   "metadata": {},
   "outputs": [],
   "source": [
    "urls = search_images_ddg('grizzly bear', max_images=100)"
   ]
  },
  {
   "cell_type": "code",
   "execution_count": null,
   "metadata": {},
   "outputs": [
    {
     "data": {
      "text/plain": [
       "(#100) ['https://1.bp.blogspot.com/-WY7kMKb_3A0/TyIpRZJW2lI/AAAAAAAAFo8/5Ccshzz3N-E/s1600/Kodiak0131.JPG','https://i2.wp.com/nypost.com/wp-content/uploads/sites/2/2020/09/grizzly-bear-89.jpg?quality=90&strip=all&ssl=1','http://zooidaho.org/wp-content/uploads/2016/02/shonibear.jpg','https://3.bp.blogspot.com/-ERmaouEbCOw/ThYPiIH9ACI/AAAAAAAAB4E/AzbPHNqSMxE/s1600/Feeling_Grizzly-1600x1200.jpg','https://media.spokesman.com/photos/2014/09/15/jj-Grizzly_MT.jpg','https://i1.wp.com/nypost.com/wp-content/uploads/sites/2/2020/05/grizzly-bear-57.jpg?quality=90&strip=all&ssl=1','http://static.independent.co.uk/s3fs-public/thumbnails/image/2016/06/30/08/yellowstone-grizzly-bear-.jpg','https://www.magazineup.com/wp-content/uploads/2020/05/pexels-brett-sayles-2555825-1536x1022.jpg','https://www.montanaoutdoor.com/wp-content/uploads/2018/02/Grizzly-King-FEAT.jpg','https://facts.net/wp-content/uploads/2020/10/grizzly-bear-861962_1280.jpg'...]"
      ]
     },
     "execution_count": null,
     "metadata": {},
     "output_type": "execute_result"
    }
   ],
   "source": [
    "urls"
   ]
  },
  {
   "cell_type": "code",
   "execution_count": null,
   "metadata": {},
   "outputs": [],
   "source": [
    "#| hide\n",
    "import nbdev; nbdev.nbdev_export()"
   ]
  },
  {
   "cell_type": "markdown",
   "metadata": {},
   "source": [
    "## 2. Comandos SHELL"
   ]
  },
  {
   "cell_type": "markdown",
   "metadata": {},
   "source": [
    "execute ! ddgs text -k funeral -m 100 -o csv "
   ]
  },
  {
   "cell_type": "markdown",
   "metadata": {},
   "source": [
    "Para obtener un conjunto de imágenes, las descarga en un directorio y deja un directorio en un fichero CSV"
   ]
  },
  {
   "cell_type": "markdown",
   "metadata": {},
   "source": [
    "execute: ! ddgs images -k ukraine -m 100 -o csv -d"
   ]
  },
  {
   "cell_type": "markdown",
   "metadata": {},
   "source": [
    "Para obtener un conjunto de notícias sobre Ucrania y descargarlas en un fichero CSV"
   ]
  },
  {
   "cell_type": "markdown",
   "metadata": {},
   "source": [
    "execute !ddgs news -k ukraine -m 100 -o csv"
   ]
  }
 ],
 "metadata": {
  "kernelspec": {
   "display_name": "fastai",
   "language": "python",
   "name": "fastai"
  }
 },
 "nbformat": 4,
 "nbformat_minor": 4
}
