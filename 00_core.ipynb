{
 "cells": [
  {
   "cell_type": "markdown",
   "metadata": {},
   "source": [
    "# core\n",
    "\n",
    "> Fill in a module description here"
   ]
  },
  {
   "cell_type": "code",
   "execution_count": 1,
   "metadata": {},
   "outputs": [],
   "source": [
    "#| default_exp core"
   ]
  },
  {
   "cell_type": "code",
   "execution_count": 2,
   "metadata": {},
   "outputs": [],
   "source": [
    "#| hide\n",
    "from nbdev.showdoc import *"
   ]
  },
  {
   "cell_type": "code",
   "execution_count": 3,
   "metadata": {},
   "outputs": [],
   "source": [
    "# !pip install -U duckduckgo_search"
   ]
  },
  {
   "cell_type": "code",
   "execution_count": 4,
   "metadata": {},
   "outputs": [],
   "source": [
    "#| export\n",
    "\n",
    "from duckduckgo_search import ddg\n",
    "from duckduckgo_search import ddg_news"
   ]
  },
  {
   "cell_type": "code",
   "execution_count": 5,
   "metadata": {},
   "outputs": [],
   "source": [
    "#| export\n",
    "\n",
    "def ddg_news(keywords, region='wt-wt', safesearch='Moderate', time=None, max_results=25, output=None):\n",
    "    \"\"\"DuckDuckGo news search\n",
    "\n",
    "    Args:\n",
    "        keywords: keywords for query.\n",
    "        region: country of results - wt-wt (Global), us-en, uk-en, ru-ru, etc. Defaults to \"wt-wt\".\n",
    "        safesearch: On (kp = 1), Moderate (kp = -1), Off (kp = -2). Defaults to \"Moderate\".\n",
    "        time: 'd' (day), 'w' (week), 'm' (month). Defaults to None.\n",
    "        max_results: maximum DDG_news gives out 240 results. Defaults to 25.\n",
    "        output: csv, json, print. Defaults to None.\n",
    "\n",
    "    Returns:\n",
    "        DuckDuckGo news search results.\n",
    "    \"\"\""
   ]
  },
  {
   "cell_type": "code",
   "execution_count": 6,
   "metadata": {},
   "outputs": [
    {
     "name": "stdout",
     "output_type": "stream",
     "text": [
      "None\n"
     ]
    }
   ],
   "source": [
    "#| export\n",
    "\n",
    "keywords = \"russia invasion ukraine\"\n",
    "r = ddg_news(keywords, region='wt-wt', safesearch='Off', time='d', max_results=100)\n",
    "print(r)"
   ]
  },
  {
   "cell_type": "code",
   "execution_count": 7,
   "metadata": {},
   "outputs": [],
   "source": [
    "#| export\n",
    "\n",
    "def ddg(keywords, region='wt-wt', safesearch='Moderate', time=None, max_results=25, output=None):\n",
    "    \"\"\"DuckDuckGo text search. Query params: https://duckduckgo.com/params\n",
    "\n",
    "    Args:\n",
    "        keywords (str): keywords for query.\n",
    "        region (str, optional): country - wt-wt, us-en, uk-en, ru-ru, etc. Defaults to \"wt-wt\".\n",
    "        safesearch (str, optional): On(kp=1), Moderate(kp=-1), Off(kp=-2). Defaults to \"Moderate\".\n",
    "        time (str, optional): 'd' (day), 'w' (week), 'm' (month), 'y' (year). Defaults to None.\n",
    "        max_results (int, optional): return not less than max_results, max=200. Defaults to 25.\n",
    "        output (str, optional): csv, json, print. Defaults to None.\n",
    "\n",
    "    Returns:\n",
    "        Optional[List[dict]]: DuckDuckGo text search results.\n",
    "    \"\"\""
   ]
  },
  {
   "cell_type": "code",
   "execution_count": 8,
   "metadata": {},
   "outputs": [
    {
     "name": "stdout",
     "output_type": "stream",
     "text": [
      "None\n"
     ]
    }
   ],
   "source": [
    "#| export\n",
    "\n",
    "keywords = 'Bella Ciao'\n",
    "results = ddg(keywords, region='wt-wt', safesearch='Moderate', time='y', max_results=25)\n",
    "print(results)"
   ]
  },
  {
   "cell_type": "code",
   "execution_count": 9,
   "metadata": {},
   "outputs": [
    {
     "name": "stderr",
     "output_type": "stream",
     "text": [
      "/home/toni/mambaforge/envs/fastai/lib/python3.9/site-packages/torchvision/io/image.py:13: UserWarning: Failed to load image Python extension: libc10_cuda.so: cannot open shared object file: No such file or directory\n",
      "  warn(f\"Failed to load image Python extension: {e}\")\n",
      "/home/toni/mambaforge/envs/fastai/lib/python3.9/site-packages/fastbook/__init__.py:13: UserWarning: Missing `sentencepiece` - please run `pip install 'sentencepiece<0.1.90'`\n",
      "  except ModuleNotFoundError: warn(\"Missing `sentencepiece` - please run `pip install 'sentencepiece<0.1.90'`\")\n"
     ]
    }
   ],
   "source": [
    "import fastbook\n",
    "fastbook.setup_book()\n",
    "from fastbook import *"
   ]
  },
  {
   "cell_type": "code",
   "execution_count": 10,
   "metadata": {},
   "outputs": [],
   "source": [
    "urls = search_images_ddg('grizzly bear', max_images=100)"
   ]
  },
  {
   "cell_type": "code",
   "execution_count": 11,
   "metadata": {},
   "outputs": [
    {
     "data": {
      "text/plain": [
       "(#100) ['https://ourplnt.com/wp-content/uploads/2020/12/grizzly-bear.jpg?is-pending-load=1','https://www.insideedition.com/sites/default/files/images/2018-04/cred_grouse_mountain_7.jpg','https://facts.net/wp-content/uploads/2020/10/grizzly-bear-861962_1280.jpg','https://www.thesun.ie/wp-content/uploads/sites/3/2020/09/NINTCHDBPICT000512282491.jpg?strip=all&quality=100&w=1200&h=800&crop=1','http://static.independent.co.uk/s3fs-public/thumbnails/image/2016/06/30/08/yellowstone-grizzly-bear-.jpg','https://www.expeditionsalaska.com/wp-content/uploads/2017/04/16-brown-bear-photos-2377.jpg','https://www.alloutdoor.com/wp-content/uploads/2019/08/Grizzly_Bear_Ursus_arctos_ssp..jpg','https://i1.wp.com/backcountryjourneys.com/wp-content/uploads/2015/12/bigstock-Grizzly-Bear-9532331.jpg','https://www.pbs.org/wnet/nature/files/2018/07/Bear133.jpg','http://blog.humanesociety.org/wp-content/uploads/2016/06/grizzly-1193x820.jpg'...]"
      ]
     },
     "execution_count": 11,
     "metadata": {},
     "output_type": "execute_result"
    }
   ],
   "source": [
    "urls"
   ]
  },
  {
   "cell_type": "code",
   "execution_count": 12,
   "metadata": {},
   "outputs": [],
   "source": [
    "#| hide\n",
    "import nbdev; nbdev.nbdev_export()"
   ]
  },
  {
   "cell_type": "markdown",
   "metadata": {},
   "source": [
    "## 2. Comandos SHELL"
   ]
  },
  {
   "cell_type": "markdown",
   "metadata": {},
   "source": [
    "execute ! ddgs text -k funeral -m 100 -o csv "
   ]
  },
  {
   "cell_type": "markdown",
   "metadata": {},
   "source": [
    "Para obtener un conjunto de imágenes, las descarga en un directorio y deja un directorio en un fichero CSV"
   ]
  },
  {
   "cell_type": "markdown",
   "metadata": {},
   "source": [
    "execute: ! ddgs images -k ukraine -m 100 -o csv -d"
   ]
  },
  {
   "cell_type": "markdown",
   "metadata": {},
   "source": [
    "Para obtener un conjunto de notícias sobre Ucrania y descargarlas en un fichero CSV"
   ]
  },
  {
   "cell_type": "markdown",
   "metadata": {},
   "source": [
    "execute !ddgs news -k ukraine -m 100 -o csv"
   ]
  },
  {
   "cell_type": "code",
   "execution_count": 14,
   "metadata": {},
   "outputs": [],
   "source": [
    "!python -m duckduckgo_search news -k 'catalunya' -r 'es-es' -o csv -m 300"
   ]
  },
  {
   "cell_type": "code",
   "execution_count": 15,
   "metadata": {},
   "outputs": [],
   "source": [
    "!python -m duckduckgo_search news -k 'cataluña' -r 'es-es' -o csv -m 300"
   ]
  },
  {
   "cell_type": "code",
   "execution_count": 16,
   "metadata": {},
   "outputs": [],
   "source": [
    "!python -m duckduckgo_search news -k 'proces' -r 'es-es' -o csv -m 300"
   ]
  },
  {
   "cell_type": "code",
   "execution_count": 17,
   "metadata": {},
   "outputs": [],
   "source": [
    "!python -m duckduckgo_search news -k 'govern' -r 'es-es' -o csv -m 300"
   ]
  },
  {
   "cell_type": "code",
   "execution_count": 20,
   "metadata": {},
   "outputs": [],
   "source": [
    "!python -m duckduckgo_search news -k 'govern' -r 'ca-ca' -o csv -m 300"
   ]
  },
  {
   "cell_type": "code",
   "execution_count": null,
   "metadata": {},
   "outputs": [],
   "source": []
  }
 ],
 "metadata": {
  "kernelspec": {
   "display_name": "fastai",
   "language": "python",
   "name": "fastai"
  },
  "language_info": {
   "codemirror_mode": {
    "name": "ipython",
    "version": 3
   },
   "file_extension": ".py",
   "mimetype": "text/x-python",
   "name": "python",
   "nbconvert_exporter": "python",
   "pygments_lexer": "ipython3",
   "version": "3.9.13"
  },
  "toc": {
   "base_numbering": 1,
   "nav_menu": {},
   "number_sections": true,
   "sideBar": true,
   "skip_h1_title": false,
   "title_cell": "Table of Contents",
   "title_sidebar": "Contents",
   "toc_cell": false,
   "toc_position": {},
   "toc_section_display": true,
   "toc_window_display": false
  }
 },
 "nbformat": 4,
 "nbformat_minor": 4
}
