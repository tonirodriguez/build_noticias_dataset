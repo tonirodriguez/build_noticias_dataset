{
 "cells": [
  {
   "cell_type": "markdown",
   "metadata": {},
   "source": [
    "# core\n",
    "\n",
    "> Fill in a module description here"
   ]
  },
  {
   "cell_type": "code",
   "execution_count": 1,
   "metadata": {},
   "outputs": [],
   "source": [
    "#| default_exp core"
   ]
  },
  {
   "cell_type": "code",
   "execution_count": 2,
   "metadata": {},
   "outputs": [],
   "source": [
    "#| hide\n",
    "from nbdev.showdoc import *"
   ]
  },
  {
   "cell_type": "code",
   "execution_count": 3,
   "metadata": {},
   "outputs": [
    {
     "name": "stderr",
     "output_type": "stream",
     "text": [
      "\"#pip\" no se reconoce como un comando interno o externo,\n",
      "programa o archivo por lotes ejecutable.\n"
     ]
    }
   ],
   "source": [
    "!#pip install -U duckduckgo_search"
   ]
  },
  {
   "cell_type": "code",
   "execution_count": 4,
   "metadata": {},
   "outputs": [
    {
     "ename": "ModuleNotFoundError",
     "evalue": "No module named 'duckduckgo_search'",
     "output_type": "error",
     "traceback": [
      "\u001b[1;31m---------------------------------------------------------------------------\u001b[0m",
      "\u001b[1;31mModuleNotFoundError\u001b[0m                       Traceback (most recent call last)",
      "\u001b[1;32m~\\AppData\\Local\\Temp\\ipykernel_30264\\1203748204.py\u001b[0m in \u001b[0;36m<cell line: 3>\u001b[1;34m()\u001b[0m\n\u001b[0;32m      1\u001b[0m \u001b[1;31m#| export\u001b[0m\u001b[1;33m\u001b[0m\u001b[1;33m\u001b[0m\u001b[0m\n\u001b[0;32m      2\u001b[0m \u001b[1;33m\u001b[0m\u001b[0m\n\u001b[1;32m----> 3\u001b[1;33m \u001b[1;32mfrom\u001b[0m \u001b[0mduckduckgo_search\u001b[0m \u001b[1;32mimport\u001b[0m \u001b[0mddg\u001b[0m\u001b[1;33m\u001b[0m\u001b[1;33m\u001b[0m\u001b[0m\n\u001b[0m\u001b[0;32m      4\u001b[0m \u001b[1;32mfrom\u001b[0m \u001b[0mduckduckgo_search\u001b[0m \u001b[1;32mimport\u001b[0m \u001b[0mddg_news\u001b[0m\u001b[1;33m\u001b[0m\u001b[1;33m\u001b[0m\u001b[0m\n",
      "\u001b[1;31mModuleNotFoundError\u001b[0m: No module named 'duckduckgo_search'"
     ]
    }
   ],
   "source": [
    "#| export\n",
    "\n",
    "from duckduckgo_search import ddg\n",
    "from duckduckgo_search import ddg_news"
   ]
  },
  {
   "cell_type": "code",
   "execution_count": null,
   "metadata": {},
   "outputs": [],
   "source": [
    "#| export\n",
    "\n",
    "#def ddg_news(keywords, region='wt-wt', safesearch='Moderate', time=None, max_results=25, output=None):\n",
    "    \"\"\"DuckDuckGo news search\n",
    "\n",
    "    Args:\n",
    "        keywords: keywords for query.\n",
    "        region: country of results - wt-wt (Global), us-en, uk-en, ru-ru, etc. Defaults to \"wt-wt\".\n",
    "        safesearch: On (kp = 1), Moderate (kp = -1), Off (kp = -2). Defaults to \"Moderate\".\n",
    "        time: 'd' (day), 'w' (week), 'm' (month). Defaults to None.\n",
    "        max_results: maximum DDG_news gives out 240 results. Defaults to 25.\n",
    "        output: csv, json, print. Defaults to None.\n",
    "\n",
    "    Returns:\n",
    "        DuckDuckGo news search results.\n",
    "    \"\"\""
   ]
  },
  {
   "cell_type": "code",
   "execution_count": null,
   "metadata": {},
   "outputs": [],
   "source": [
    "#| export\n",
    "\n",
    "keywords = \"russia invasion ukraine\"\n",
    "r = ddg_news(keywords, region='wt-wt', safesearch='Off', time='d', max_results=100)\n",
    "print(r)"
   ]
  },
  {
   "cell_type": "code",
   "execution_count": null,
   "metadata": {},
   "outputs": [],
   "source": [
    "#| export\n",
    "\n",
    "def ddg(keywords, region='wt-wt', safesearch='Moderate', time=None, max_results=25, output=None):\n",
    "    \"\"\"DuckDuckGo text search. Query params: https://duckduckgo.com/params\n",
    "\n",
    "    Args:\n",
    "        keywords (str): keywords for query.\n",
    "        region (str, optional): country - wt-wt, us-en, uk-en, ru-ru, etc. Defaults to \"wt-wt\".\n",
    "        safesearch (str, optional): On(kp=1), Moderate(kp=-1), Off(kp=-2). Defaults to \"Moderate\".\n",
    "        time (str, optional): 'd' (day), 'w' (week), 'm' (month), 'y' (year). Defaults to None.\n",
    "        max_results (int, optional): return not less than max_results, max=200. Defaults to 25.\n",
    "        output (str, optional): csv, json, print. Defaults to None.\n",
    "\n",
    "    Returns:\n",
    "        Optional[List[dict]]: DuckDuckGo text search results.\n",
    "    \"\"\""
   ]
  },
  {
   "cell_type": "code",
   "execution_count": null,
   "metadata": {},
   "outputs": [],
   "source": [
    "#| export\n",
    "\n",
    "keywords = 'Bella Ciao'\n",
    "results = ddg(keywords, region='wt-wt', safesearch='Moderate', time='y', max_results=25)\n",
    "print(results)"
   ]
  },
  {
   "cell_type": "code",
   "execution_count": null,
   "metadata": {},
   "outputs": [],
   "source": [
    "#| hide\n",
    "import nbdev; nbdev.nbdev_export()"
   ]
  },
  {
   "cell_type": "markdown",
   "metadata": {},
   "source": [
    "## 2. Comandos SHELL"
   ]
  },
  {
   "cell_type": "markdown",
   "metadata": {},
   "source": [
    "execute ! ddgs text -k funeral -m 100 -o csv "
   ]
  },
  {
   "cell_type": "markdown",
   "metadata": {},
   "source": [
    "Para obtener un conjunto de imágenes, las descarga en un directorio y deja un directorio en un fichero CSV"
   ]
  },
  {
   "cell_type": "markdown",
   "metadata": {},
   "source": [
    "execute: ! ddgs images -k ukraine -m 100 -o csv -d"
   ]
  },
  {
   "cell_type": "markdown",
   "metadata": {},
   "source": [
    "Para obtener un conjunto de notícias sobre Ucrania y descargarlas en un fichero CSV"
   ]
  },
  {
   "cell_type": "markdown",
   "metadata": {},
   "source": [
    "execute !ddgs news -k ukraine -m 100 -o csv"
   ]
  },
  {
   "cell_type": "code",
   "execution_count": null,
   "metadata": {},
   "outputs": [],
   "source": [
    "python -m duckduckgo_search news -k 'ucrania' -r 'es-es' -o csv -m 100"
   ]
  },
  {
   "cell_type": "code",
   "execution_count": null,
   "metadata": {},
   "outputs": [],
   "source": []
  }
 ],
 "metadata": {
  "kernelspec": {
   "display_name": "fastai",
   "language": "python",
   "name": "fastai"
  },
  "language_info": {
   "codemirror_mode": {
    "name": "ipython",
    "version": 3
   },
   "file_extension": ".py",
   "mimetype": "text/x-python",
   "name": "python",
   "nbconvert_exporter": "python",
   "pygments_lexer": "ipython3",
   "version": "3.9.13"
  },
  "toc": {
   "base_numbering": 1,
   "nav_menu": {},
   "number_sections": true,
   "sideBar": true,
   "skip_h1_title": false,
   "title_cell": "Table of Contents",
   "title_sidebar": "Contents",
   "toc_cell": false,
   "toc_position": {},
   "toc_section_display": true,
   "toc_window_display": false
  }
 },
 "nbformat": 4,
 "nbformat_minor": 4
}
